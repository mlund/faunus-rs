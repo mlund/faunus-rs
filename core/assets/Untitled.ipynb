{
 "cells": [
  {
   "cell_type": "code",
   "execution_count": null,
   "id": "133bdff3-a49d-4894-82cd-c3ca28f7e7e4",
   "metadata": {
    "tags": []
   },
   "outputs": [],
   "source": [
    "import parmed as pmd\n",
    "import sys\n",
    "from ruamel.yaml import YAML\n",
    "parm = pmd.load_file(\"solvated.top\")"
   ]
  },
  {
   "cell_type": "code",
   "execution_count": null,
   "id": "929794a3-61de-4d35-9882-08b72934a39b",
   "metadata": {
    "tags": []
   },
   "outputs": [],
   "source": [
    "def parse_bond(bond):\n",
    "    d = dict(index=[bond.atom1.idx, bond.atom2.idx])\n",
    "    if bond.type != None:\n",
    "        d['k'] = bond.type.k\n",
    "        d['req'] = bond.type.req\n",
    "        d['type'] = 'harmonic'\n",
    "    return d\n",
    "\n",
    "def parse_atom(atom):\n",
    "    return dict(sigma=atom.sigma, epsilon=atom.epsilon,\n",
    "                name=atom.name, charge=atom.charge, type=atom.type,\n",
    "                element=atom.element_name, index=atom.idx) \n",
    "\n",
    "def parse_residue(residue):\n",
    "    return dict(name=residue.name, index=residue.idx, chain=residue.chain, \n",
    "                number=residue.number, ter=residue.ter,\n",
    "                atom_names=list(map(lambda x: x.name, residue.atoms)),\n",
    "                atom_index=list(map(lambda x: x.idx, residue.atoms)))\n",
    "\n",
    "def parse_angle(angle):\n",
    "    d = dict(index=[angle.atom1.idx, angle.atom2.idx, angle.atom3.idx])#, k=a.type.k, theteq=a.type.theteq)\n",
    "    if angle.type != None:\n",
    "        d['k'] = angle.type.k\n",
    "        d['theteq'] = angle.type.theteq\n",
    "    return d"
   ]
  },
  {
   "cell_type": "code",
   "execution_count": null,
   "id": "02879199-ae2c-4c5b-9c23-5167c3f3dc2c",
   "metadata": {
    "tags": []
   },
   "outputs": [],
   "source": [
    "bonds = (parse_bond(bond) for bond in parm.bonds)\n",
    "atoms = (parse_atom(atom) for atom in parm.atoms)\n",
    "residues = (parse_residue(residue) for residue in parm.residues)\n",
    "angles = (parse_angle(angle) for angle in parm.angles)\n",
    "#top = dict(atomtypes=list(atoms), residues=list(residues), bonds=list(bonds), angles=list(angles))\n",
    "top = dict(residues=list(residues))\n",
    "\n",
    "yaml=YAML()\n",
    "#yaml.indent(mapping=4, sequence=6, offset=3)\n",
    "yaml.compact()\n",
    "#yaml.dump(top, sys.stdout)"
   ]
  },
  {
   "cell_type": "code",
   "execution_count": null,
   "id": "872292e8-be1c-4c1f-ac73-89863b20216b",
   "metadata": {
    "tags": []
   },
   "outputs": [],
   "source": [
    "parm.residues[0].name"
   ]
  },
  {
   "cell_type": "code",
   "execution_count": null,
   "id": "65556cef-6654-483e-b730-f3682caee22c",
   "metadata": {
    "tags": []
   },
   "outputs": [],
   "source": [
    "for name, (mol, _) in parm.molecules.items():\n",
    "    bonds = (parse_bond(bond) for bond in mol.bonds)\n",
    "    atoms = (dict(sigma=a.sigma, epsilon=a.epsilon, name=a.name, charge=a.charge, type=a.type,\n",
    "                            element=a.element_name, index=a.idx) for a in mol.atoms)\n",
    "    residues = (parse_residue(residue) for residue in mol.residues)\n",
    "    angles = (parse_angle(angle) for angle in mol.angles)\n",
    "    print(name, dict(bonds=list(bonds)))\n",
    "    "
   ]
  },
  {
   "cell_type": "code",
   "execution_count": null,
   "id": "0b4f6b12-02da-4abe-92c5-47f4789e7f03",
   "metadata": {
    "tags": []
   },
   "outputs": [],
   "source": [
    "list(top)"
   ]
  },
  {
   "cell_type": "code",
   "execution_count": null,
   "id": "956d4338-f59f-43bf-b3df-3477928f253e",
   "metadata": {},
   "outputs": [],
   "source": []
  }
 ],
 "metadata": {
  "kernelspec": {
   "display_name": "Python 3 (ipykernel)",
   "language": "python",
   "name": "python3"
  },
  "language_info": {
   "codemirror_mode": {
    "name": "ipython",
    "version": 3
   },
   "file_extension": ".py",
   "mimetype": "text/x-python",
   "name": "python",
   "nbconvert_exporter": "python",
   "pygments_lexer": "ipython3",
   "version": "3.10.10"
  }
 },
 "nbformat": 4,
 "nbformat_minor": 5
}
